{
 "cells": [
  {
   "cell_type": "code",
   "execution_count": 34,
   "metadata": {},
   "outputs": [
    {
     "data": {
      "text/plain": [
       "<matplotlib.image.AxesImage at 0x17fb058>"
      ]
     },
     "execution_count": 34,
     "metadata": {},
     "output_type": "execute_result"
    },
    {
     "data": {
      "image/png": "[encoded data removed]",
      "text/plain": [
       "<Figure size 432x288 with 1 Axes>"
      ]
     },
     "metadata": {
      "needs_background": "light"
     },
     "output_type": "display_data"
    }
   ],
   "source": [
    "# import spacy\n",
    "import imageio\n",
    "import matplotlib.pyplot as plt\n",
    "import cv2 \n",
    "import numpy as np\n",
    "  \n",
    "# Save image in set directory \n",
    "# Read RGB image \n",
    "#img = cv2.imread('imageEmbedded.png')  \n",
    "  \n",
    "# Output img with window name as 'image' \n",
    "#cv2.imshow('image', img) \n",
    "\n",
    "img = imageio.imread('imageEmbedded.png')\n",
    "\n",
    "\n",
    "\n",
    "cv2.waitKey(0) \n",
    "rvals = img[:,:,0]\n",
    "gvals = img[:,:,1]\n",
    "bvals = img[:,:,2]\n",
    "\n",
    "newr = np.empty((rvals.shape[0], rvals.shape[1]))\n",
    "for i in range(rvals.shape[0]):\n",
    "    for j in range(rvals.shape[1]):\n",
    "        newr[i][j] = int(bin(rvals[i][j])[2:4],2)\n",
    "        \n",
    "newg = np.empty((gvals.shape[0], gvals.shape[1]))\n",
    "for i in range(gvals.shape[0]):\n",
    "    for j in range(rvals.shape[1]):\n",
    "        newg[i][j] = int(bin(gvals[i][j])[2:4],2)\n",
    "        \n",
    "newb = np.empty((bvals.shape[0], bvals.shape[1]))\n",
    "for i in range(bvals.shape[0]):\n",
    "    for j in range(bvals.shape[1]):\n",
    "        newb[i][j] = int(bin(bvals[i][j])[2:4],2)\n",
    "\n",
    "newpic = np.zeros((newr.shape[0], newr.shape[1],3), dtype=np.uint8)\n",
    "newpic[:,:,0] = newr\n",
    "newpic[:,:,1] = newg\n",
    "newpic[:,:,2] = newb\n",
    "        \n",
    "plt.imshow(newpic)\n",
    "        \n",
    "\n",
    "\n"
   ]
  },
  {
   "cell_type": "code",
   "execution_count": 45,
   "metadata": {},
   "outputs": [
    {
     "name": "stdout",
     "output_type": "stream",
     "text": [
      "[('In', 'IN')]\n",
      "[('Brazil', 'NNP')]\n",
      "[('they', 'PRP')]\n",
      "[('drive', 'NN')]\n",
      "[('on', 'IN')]\n",
      "[('the', 'DT')]\n",
      "[('right-hand', 'NN')]\n",
      "[('side', 'NN')]\n",
      "[('of', 'IN')]\n",
      "[('the', 'DT')]\n",
      "[('road', 'NN')]\n",
      "[('.', '.')]\n",
      "[('Brazil', 'NNP')]\n",
      "[('has', 'VBZ')]\n",
      "[('a', 'DT')]\n",
      "[('large', 'JJ')]\n",
      "[('coastline', 'NN')]\n",
      "[('on', 'IN')]\n",
      "[('the', 'DT')]\n",
      "[('eastern', 'JJ')]\n",
      "[('side', 'NN')]\n",
      "[('of', 'IN')]\n",
      "[('South', 'NNP')]\n",
      "[('America', 'NNP')]\n"
     ]
    }
   ],
   "source": [
    "#tect extraction\n",
    "# Importing necessary library\n",
    "import pandas as pd\n",
    "import numpy as np\n",
    "import nltk\n",
    "import os\n",
    "import nltk.corpus# sample text for performing tokenization\n",
    "text = 'In Brazil they drive on the right-hand side of the road. Brazil has a large coastline on the eastern side of South America' # importing word_tokenize from nltk\n",
    "from nltk.tokenize import word_tokenize# Passing the string text into word tokenize for breaking the sentences\n",
    "token = word_tokenize(text)\n",
    "\n",
    "# finding the frequency distinct in the tokens\n",
    "# Importing FreqDist library from nltk and passing token into FreqDist\n",
    "from nltk.probability import FreqDist\n",
    "fdist = FreqDist(token)\n",
    "fdist\n",
    "\n",
    "\n",
    "tex = word_tokenize(text)\n",
    "for token in tex:\n",
    "    print(nltk.pos_tag([token]))"
   ]
  },
  {
   "cell_type": "code",
   "execution_count": null,
   "metadata": {},
   "outputs": [],
   "source": []
  }
 ],
 "metadata": {
  "kernelspec": {
   "display_name": "Python 3",
   "language": "python",
   "name": "python3"
  },
  "language_info": {
   "codemirror_mode": {
    "name": "ipython",
    "version": 3
   },
   "file_extension": ".py",
   "mimetype": "text/x-python",
   "name": "python",
   "nbconvert_exporter": "python",
   "pygments_lexer": "ipython3",
   "version": "3.8.5"
  }
 },
 "nbformat": 4,
 "nbformat_minor": 4
}
